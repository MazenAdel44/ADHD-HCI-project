{
 "cells": [
  {
   "cell_type": "code",
   "execution_count": 2,
   "metadata": {},
   "outputs": [
    {
     "name": "stdout",
     "output_type": "stream",
     "text": [
      "Note: you may need to restart the kernel to use updated packages.\n"
     ]
    },
    {
     "name": "stderr",
     "output_type": "stream",
     "text": [
      "ERROR: Could not open requirements file: [Errno 2] No such file or directory: 'requirements.txt'\n"
     ]
    }
   ],
   "source": [
    "pip install -r requirements.txt"
   ]
  },
  {
   "cell_type": "code",
   "execution_count": 4,
   "metadata": {},
   "outputs": [
    {
     "name": "stdout",
     "output_type": "stream",
     "text": [
      "Collecting gaze_trackingNote: you may need to restart the kernel to use updated packages.\n",
      "\n",
      "  Downloading gaze_tracking-0.0.1-py3-none-any.whl (1.3 kB)\n",
      "Installing collected packages: gaze_tracking\n",
      "Successfully installed gaze_tracking-0.0.1\n"
     ]
    }
   ],
   "source": [
    "pip install gaze_tracking"
   ]
  },
  {
   "cell_type": "code",
   "execution_count": 8,
   "metadata": {},
   "outputs": [
    {
     "ename": "ModuleNotFoundError",
     "evalue": "No module named 'gaze_tracking'",
     "output_type": "error",
     "traceback": [
      "\u001b[1;31m---------------------------------------------------------------------------\u001b[0m",
      "\u001b[1;31mModuleNotFoundError\u001b[0m                       Traceback (most recent call last)",
      "\u001b[1;32m~\\AppData\\Local\\Temp\\ipykernel_8312\\2761704650.py\u001b[0m in \u001b[0;36m<module>\u001b[1;34m\u001b[0m\n\u001b[0;32m      1\u001b[0m \u001b[1;32mimport\u001b[0m \u001b[0mcv2\u001b[0m\u001b[1;33m\u001b[0m\u001b[1;33m\u001b[0m\u001b[0m\n\u001b[1;32m----> 2\u001b[1;33m \u001b[1;32mfrom\u001b[0m \u001b[0mgaze_tracking\u001b[0m \u001b[1;32mimport\u001b[0m \u001b[0mGazeTracking\u001b[0m\u001b[1;33m\u001b[0m\u001b[1;33m\u001b[0m\u001b[0m\n\u001b[0m\u001b[0;32m      3\u001b[0m \u001b[1;33m\u001b[0m\u001b[0m\n\u001b[0;32m      4\u001b[0m \u001b[0mgaze\u001b[0m \u001b[1;33m=\u001b[0m \u001b[0mGazeTracking\u001b[0m\u001b[1;33m(\u001b[0m\u001b[1;33m)\u001b[0m\u001b[1;33m\u001b[0m\u001b[1;33m\u001b[0m\u001b[0m\n\u001b[0;32m      5\u001b[0m \u001b[0mwebcam\u001b[0m \u001b[1;33m=\u001b[0m \u001b[0mcv2\u001b[0m\u001b[1;33m.\u001b[0m\u001b[0mVideoCapture\u001b[0m\u001b[1;33m(\u001b[0m\u001b[1;36m0\u001b[0m\u001b[1;33m)\u001b[0m\u001b[1;33m\u001b[0m\u001b[1;33m\u001b[0m\u001b[0m\n",
      "\u001b[1;31mModuleNotFoundError\u001b[0m: No module named 'gaze_tracking'"
     ]
    }
   ],
   "source": [
    "import cv2\n",
    "from gaze_tracking import GazeTracking\n",
    "import time\n",
    "import os\n",
    "gaze = GazeTracking()\n",
    "webcam = cv2.VideoCapture(0)\n",
    "music_file = \"path/to/music/file.mp3\"\n",
    "last_seen = time.time()\n",
    "while True:\n",
    "    _, frame = webcam.read()\n",
    "    gaze.refresh(frame)\n",
    "    new_frame = gaze.annotated_frame()\n",
    "    text = \"\"\n",
    "    if gaze.is_right():\n",
    "        text = \"Looking right\"\n",
    "    elif gaze.is_left():\n",
    "        text = \"Looking left\"\n",
    "    elif gaze.is_center():\n",
    "        text = \"Looking center\"\n",
    "    cv2.putText(new_frame, text, (60, 60), cv2.FONT_HERSHEY_DUPLEX, 2, (255, 0, 0), 2)\n",
    "    cv2.imshow(\"Demo\", new_frame)\n",
    "    if gaze.is_blinking():\n",
    "        last_seen = time.time()\n",
    "    if time.time() - last_seen > 5:  # Change the time span as per your requirement\n",
    "        os.system(\"mpg321 \" + music_file)  # Install mpg321 first using \"sudo apt-get install mpg321\" command\n",
    "    if cv2.waitKey(1) == 27:\n",
    "        break\n",
    "#This code uses the time module to keep track of the last time the user was seen looking at the screen. If the user blinks, the last_seen variable is updated. If the time since the last blink is greater than 5 seconds (you can change this value as per your requirement), then the code uses the os module to play a music file using the mpg321 command line player.\n",
    "#Note: You need to install the mpg321 command line player first using the command sudo apt-get install mpg321 before running this code."
   ]
  }
 ],
 "metadata": {
  "kernelspec": {
   "display_name": "base",
   "language": "python",
   "name": "python3"
  },
  "language_info": {
   "codemirror_mode": {
    "name": "ipython",
    "version": 3
   },
   "file_extension": ".py",
   "mimetype": "text/x-python",
   "name": "python",
   "nbconvert_exporter": "python",
   "pygments_lexer": "ipython3",
   "version": "3.9.13"
  },
  "orig_nbformat": 4
 },
 "nbformat": 4,
 "nbformat_minor": 2
}
