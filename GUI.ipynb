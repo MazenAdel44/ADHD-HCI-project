{
 "cells": [
  {
   "cell_type": "code",
   "execution_count": 29,
   "metadata": {},
   "outputs": [],
   "source": [
    "import tkinter as tk\n"
   ]
  },
  {
   "cell_type": "code",
   "execution_count": 30,
   "metadata": {},
   "outputs": [],
   "source": [
    "\n",
    "#bluetooth\n",
    "def discovery():\n",
    "    import bluetooth\n",
    "    import csv\n",
    "    index = 1\n",
    "    nearby_devices = bluetooth.discover_devices(lookup_names=True)\n",
    "    #print(\"found %d devices\" % len(nearby_devices))\n",
    "\n",
    "    # Define the filename for the CSV file\n",
    "    filename = 'Bluetooth/Known_users.csv'\n",
    "    with open(filename, mode='r') as csv_file:\n",
    "        content = csv.reader(filename)\n",
    "        for addr, name in nearby_devices:\n",
    "            if nearby_devices[0][0] == addr and nearby_devices[0][1] == name:\n",
    "                thing = \"Welcome \"+name\n",
    "                label.configure(text = thing)\n",
    "            else:\n",
    "                with open(filename, mode='w',newline='') as csv_file:\n",
    "                    # Create a writer object\n",
    "                    writer = csv.writer(csv_file)\n",
    "                    for addr, name in nearby_devices:\n",
    "                        # Write the data to the CSV file\n",
    "                        writer.writerow([addr,name])\n",
    "                        index = index + 1\n",
    "                        #print(\" %s - %s\" % (addr, name))\n",
    "                        thing = \"new user detected\"\n",
    "                        label.configure(text = thing)\n",
    "    "
   ]
  },
  {
   "cell_type": "code",
   "execution_count": 28,
   "metadata": {},
   "outputs": [],
   "source": [
    "\n",
    "# Create the main window\n",
    "root = tk.Tk()\n",
    "\n",
    "root.after(0, discovery)\n",
    "# Set the title and size of the window\n",
    "root.title(\"ADHD SUPPORT SYSTEM AAAAAAA!!!\")\n",
    "root.geometry(\"400x300\")\n",
    "# Add a label to the window\n",
    "label = tk.Label(root, text=\"Hello, World!\")\n",
    "label.pack()\n",
    "# Add a button to the window\n",
    "#bluetooth_button = tk.Button(root, text=\"Bluetooth discovery\",command=discovery)\n",
    "#bluetooth_button.pack()\n",
    "# Add a button to the window\n",
    "button = tk.Button(root, text=\"Click me!\")\n",
    "button.pack()\n",
    "# Add a button to the window\n",
    "button = tk.Button(root, text=\"Click me!\")\n",
    "button.pack()\n",
    "# Add a button to the window\n",
    "button = tk.Button(root, text=\"Click me!\")\n",
    "button.pack()\n",
    "# Run the main loop\n",
    "root.mainloop()"
   ]
  }
 ],
 "metadata": {
  "kernelspec": {
   "display_name": "Python 3.9.7 ('base')",
   "language": "python",
   "name": "python3"
  },
  "language_info": {
   "codemirror_mode": {
    "name": "ipython",
    "version": 3
   },
   "file_extension": ".py",
   "mimetype": "text/x-python",
   "name": "python",
   "nbconvert_exporter": "python",
   "pygments_lexer": "ipython3",
   "version": "3.9.7"
  },
  "orig_nbformat": 4,
  "vscode": {
   "interpreter": {
    "hash": "83893ed8ab2f7255fca62e454031b1e5cdc52831ef9a8084c39c59e4ac6d9f46"
   }
  }
 },
 "nbformat": 4,
 "nbformat_minor": 2
}
