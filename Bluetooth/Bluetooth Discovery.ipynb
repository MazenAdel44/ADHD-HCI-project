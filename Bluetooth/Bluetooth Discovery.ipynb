{
 "cells": [
  {
   "cell_type": "code",
   "execution_count": 1,
   "id": "53aaac91",
   "metadata": {},
   "outputs": [],
   "source": [
    "import bluetooth\n",
    "import csv"
   ]
  },
  {
   "cell_type": "code",
   "execution_count": 23,
   "id": "bc7c44a6",
   "metadata": {},
   "outputs": [
    {
     "name": "stdout",
     "output_type": "stream",
     "text": [
      "found 1 devices\n",
      "Welcome Galaxy A71\n"
     ]
    }
   ],
   "source": [
    "index = 1\n",
    "nearby_devices = bluetooth.discover_devices(lookup_names=True)\n",
    "print(\"found %d devices\" % len(nearby_devices))\n",
    "\n",
    "# Define the filename for the CSV file\n",
    "filename = 'Known_users.csv'\n",
    "with open(filename, mode='r') as csv_file:\n",
    "    content = csv.reader(filename)\n",
    "    for addr, name in nearby_devices:\n",
    "        if nearby_devices[0][0] == addr and nearby_devices[0][1] == name:\n",
    "            print(\"Welcome \"+name)\n",
    "        else:\n",
    "            with open(filename, mode='w',newline='') as csv_file:\n",
    "                # Create a writer object\n",
    "                writer = csv.writer(csv_file)\n",
    "                for addr, name in nearby_devices:\n",
    "                    # Write the data to the CSV file\n",
    "                    writer.writerow([addr,name])\n",
    "                    index = index + 1\n",
    "                    print(\" %s - %s\" % (addr, name))\n"
   ]
  },
  {
   "cell_type": "code",
   "execution_count": null,
   "id": "b1b828b4",
   "metadata": {},
   "outputs": [],
   "source": []
  }
 ],
 "metadata": {
  "kernelspec": {
   "display_name": "Python 3.9.7 ('base')",
   "language": "python",
   "name": "python3"
  },
  "language_info": {
   "codemirror_mode": {
    "name": "ipython",
    "version": 3
   },
   "file_extension": ".py",
   "mimetype": "text/x-python",
   "name": "python",
   "nbconvert_exporter": "python",
   "pygments_lexer": "ipython3",
   "version": "3.9.7"
  },
  "vscode": {
   "interpreter": {
    "hash": "83893ed8ab2f7255fca62e454031b1e5cdc52831ef9a8084c39c59e4ac6d9f46"
   }
  }
 },
 "nbformat": 4,
 "nbformat_minor": 5
}
