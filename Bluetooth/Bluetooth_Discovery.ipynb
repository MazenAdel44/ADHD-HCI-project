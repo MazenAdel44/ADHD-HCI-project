{
 "cells": [
  {
   "cell_type": "code",
   "execution_count": 23,
   "id": "bc7c44a6",
   "metadata": {},
   "outputs": [
    {
     "name": "stdout",
     "output_type": "stream",
     "text": [
      "Welcome, zeyad medhat\n"
     ]
    }
   ],
   "source": [
    "\n",
    "import bluetooth\n",
    "import csv\n",
    "index = 1\n",
    "filename = 'Known_users.csv'\n",
    "def scan():\n",
    "    nearby_devices = bluetooth.discover_devices(lookup_names=True)\n",
    "    return nearby_devices\n",
    "\n",
    "def add(nearby_devices,index,filename):\n",
    "    # Define the filename for the CSV file\n",
    "    \n",
    "    with open(filename, 'a',newline ='') as csv_file:\n",
    "        writer = csv.writer(csv_file)\n",
    "        for addr, name in nearby_devices:\n",
    "            state = check(addr,name)\n",
    "            if state == False:\n",
    "                writer.writerow([index,addr,name])\n",
    "                index= index+1\n",
    "    \n",
    "    csv_file.close()\n",
    "\n",
    "def check(addr,name):\n",
    "    with open(filename, mode='r') as csv_file:\n",
    "        reader = csv.reader(csv_file)\n",
    "        for line in reader:\n",
    "            #print(line[1])\n",
    "            #print(line[2])\n",
    "            if line[1] == addr and line[2] == name:\n",
    "                thing = \"Welcome, \" + name\n",
    "                Bluetooth_label.configure(text = thing)\n",
    "                return True\n",
    "    thing = \"new user detected. Adding..\"\n",
    "    Bluetooth_label.configure(text = thing)\n",
    "    return False\n",
    "\n",
    "neardev = scan()\n",
    "add(neardev,index,filename)\n",
    "            "
   ]
  },
  {
   "cell_type": "code",
   "execution_count": null,
   "id": "b1b828b4",
   "metadata": {},
   "outputs": [],
   "source": [
    "if nearby_devices[0][1] == addr and nearby_devices[0][2] == name:\n",
    "                thing = \"Welcome \"+name\n",
    "                #Bluetooth_label.configure(text = thing)\n",
    "                #print(thing)\n",
    "            else:\n",
    "                with open(filename, mode='w',newline='') as csv_file:\n",
    "                    # Create a writer object\n",
    "                    writer = csv.writer(csv_file)\n",
    "                    for addr, name in nearby_devices:\n",
    "                            # Write the data to the CSV file\n",
    "                            \n",
    "                        writer.writerow([index,addr,name])\n",
    "                        index = index + 1\n",
    "                        #print(\" %s - %s\" % (addr, name))\n",
    "                        thing = \"new user detected\"\n",
    "                        #Bluetooth_label.configure(text = thing)\n",
    "                        #print(thing)\n"
   ]
  }
 ],
 "metadata": {
  "kernelspec": {
   "display_name": "Python 3.9.0 ('deeplearning')",
   "language": "python",
   "name": "python3"
  },
  "language_info": {
   "codemirror_mode": {
    "name": "ipython",
    "version": 3
   },
   "file_extension": ".py",
   "mimetype": "text/x-python",
   "name": "python",
   "nbconvert_exporter": "python",
   "pygments_lexer": "ipython3",
   "version": "3.9.0"
  },
  "vscode": {
   "interpreter": {
    "hash": "5ee9d1f1bb5867488e1ba8d6031f5573fa092eb6e4d441fcc98802af84319877"
   }
  }
 },
 "nbformat": 4,
 "nbformat_minor": 5
}
